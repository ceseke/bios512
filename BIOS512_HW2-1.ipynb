{
 "cells": [
  {
   "cell_type": "markdown",
   "id": "2a745634",
   "metadata": {},
   "source": [
    "---\n",
    "title: \"BIOS 512 Homework 2\"\n",
    "output: pdf_document\n",
    "---\n",
    "\n",
    "## Load Necessary Packages...\n",
    "\n",
    "If you need to install tidyverse, you can use install.packages(\"tidyverse\"). If you already have tidyverse installed, you can just load the package:"
   ]
  },
  {
   "cell_type": "code",
   "execution_count": null,
   "id": "ea95b273",
   "metadata": {
    "vscode": {
     "languageId": "r"
    }
   },
   "outputs": [],
   "source": [
    "%%R\n",
    "library(tidyverse);"
   ]
  },
  {
   "cell_type": "markdown",
   "id": "cf12afa0",
   "metadata": {},
   "source": [
    "## Question 1\n",
    "\n",
    "What are three ways that we can assign the value of 25 to y?\n",
    "\n",
    "25 <- y\n",
    "\n",
    "y = 25 \n",
    " \n",
    "25 <<- y\n",
    "\n",
    "## Question 2\n",
    "\n",
    "How would I print the following line, including the quotes, in R?\\\n",
    "**He said, \"I'm Garth Marenghi. Author. Dreamweaver. Visionary. Plus actor.\"**\n",
    "\n",
    "cat(\"He said, \\\"I'm Garth Marenghi. Author. Dreamweaver. Visionary. Plus actor.\\\"\")\n",
    "\n",
    "## Question 3\n",
    "\n",
    "What if I wanted to add backslashes into the statement from Question 1 to make the statement below?\\\n",
    "**He said, \"I'm Garth Marenghi. Author\\\\Dreamweaver\\\\Visionary. Plus actor.\"**\n",
    "\n",
    "cat(\"He said, \\\"I'm Garth Marenghi. Author\\\\Dreamweaver\\\\Visionary. Plus actor.\\\"\")\n",
    "\n",
    "## Question 4\n",
    "\n",
    "Show two ways to get the following array: 1 2 3\n",
    "\n",
    "x <- 1:3\n",
    "\n",
    "x <- c(1, 2, 3)\n",
    "\n",
    "x\n",
    "\n",
    "## Question 5\n",
    "\n",
    "What does R call things like +, -, sin(), c(), etc? What about \\<-?\n",
    "\n",
    "+ and - are called operators.\n",
    "\n",
    "sin(), c() are built-in functions \n",
    "\n",
    "<- is an assingment operator \n",
    "\n",
    "## Question 6\n",
    "\n",
    "What's the difference in the way R processes the while() and the for() below?\n",
    "\n",
    "The While function is going through a boolean and checking to see if the statment is true, but because its x<= 3, x =4 at the end of the loop, whereas the for loop is iterating through an array that ends at 3 so y = 3. Additionally in the for loop, the y <- y + 1; statment the y changing value does not impact the array in the loop, whereas with the while loop the x value increasing is true untill the condition presented proves false. "
   ]
  },
  {
   "cell_type": "code",
   "execution_count": null,
   "id": "feb2583d",
   "metadata": {
    "vscode": {
     "languageId": "r"
    }
   },
   "outputs": [],
   "source": [
    "%%R\n",
    "x <- 0;\n",
    "while (x <= 3) {\n",
    "    x <- x + 1;\n",
    "}\n",
    "x\n",
    "\n",
    "for(y in c(1,2,3)) {\n",
    "     y <- y + 1;\n",
    "}\n",
    "y"
   ]
  },
  {
   "cell_type": "markdown",
   "id": "e87f5d74",
   "metadata": {},
   "source": [
    "## Question 7\n",
    "\n",
    "Create the Pythagorean formula and evaluate it with a=3 and b=4. Print the output.\n",
    "\n",
    "a <- 3\n",
    "b <- 4\n",
    "\n",
    "x <- sqrt(a**2 + b**2)\n",
    "\n",
    "print(x)\n",
    "\n",
    "[1] 5\n",
    "\n",
    "## Question 8\n",
    "\n",
    "Load the help for the built in sin() function.\n",
    "\n",
    "help(sin)\n",
    "\n",
    "## Question 9\n",
    "\n",
    "Which version of the counter function works? What is the difference in the way R processes the two functions? \n",
    "\n",
    "Counter2 function will be the one that works because it uses the <<- when assining the new value. The <<- updates \n",
    "the parent enviornment value where as the <- only updates the current enviornment. We need the parent enviornment \n",
    "to be updated so that way our funciton can print our the correct value instead of keeping it enclosed within the function \n",
    "and not updating properly. "
   ]
  },
  {
   "cell_type": "code",
   "execution_count": null,
   "id": "81bccea2",
   "metadata": {
    "vscode": {
     "languageId": "r"
    }
   },
   "outputs": [],
   "source": [
    "%%R\n",
    "counter1 <- function(start, step){\n",
    "    val <- start;\n",
    "    function(){\n",
    "        old_val <- val;\n",
    "        val <- val + step;\n",
    "        old_val;\n",
    "    }\n",
    "}\n",
    "counter_from_1 <- counter1(1,1);\n",
    "counter_from_1()\n",
    "counter_from_1()\n",
    "\n",
    "counter2 <- function(start, step){\n",
    "    val <- start;\n",
    "    function(){\n",
    "        old_val <- val;\n",
    "        val <<- val + step;\n",
    "        old_val;\n",
    "    }\n",
    "}\n",
    "counter_from_1 <- counter2(1,1);\n",
    "counter_from_1()\n",
    "counter_from_1()"
   ]
  },
  {
   "cell_type": "markdown",
   "id": "8440f130",
   "metadata": {},
   "source": [
    "## Question 10\n",
    "\n",
    "a)  Use read_csv the cars.csv and store it in a data frame.\n",
    "b)  Then, group the data frame by Make, get averages across the numeric variables, and then sort by Volume in descending order. Hint: Use summarise(across(c(<variable list>), mean)) to get the averages.\n",
    "\n",
    "Code used: \n",
    "\n",
    "cars <- read_csv(\"cars.csv\")\n",
    "\n",
    "group_by(Make)\n",
    "\n",
    "summarise(across(c(Volume,Weight, CO2), mean))\n",
    "\n",
    "arrange(desc(Volume))\n",
    "\n",
    "Mean Results: volume average: 1611.11, weight average: 1292.277, CO2 average: 102.03\n",
    "\n",
    "## Question 11\n",
    "\n",
    "Make a function that returns the Fibonacci sequence, then call it 7 times to return the first 7 values of the sequence. Use the correct counter function from question 9 for inspiration.\n",
    "\n",
    "fibonacci <- function(x){\n",
    "    \n",
    "if(x<=1)\n",
    "    return (x)\n",
    "\n",
    "return (fibonacci(x - 1) + fibonacci(x - 2))\n",
    "\n",
    "}\n",
    "\n",
    "sapply(0:6, fibonacci)\n",
    "\n",
    "[1] 0  1  1  2  3  5  8"
   ]
  }
 ],
 "metadata": {
  "language_info": {
   "name": "python"
  }
 },
 "nbformat": 4,
 "nbformat_minor": 5
}
